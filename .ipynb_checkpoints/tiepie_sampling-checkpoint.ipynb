{
 "cells": [
  {
   "cell_type": "code",
   "execution_count": 3,
   "id": "be6d76c5",
   "metadata": {},
   "outputs": [
    {
     "name": "stdout",
     "output_type": "stream",
     "text": [
      "No oscilloscope available with block measurement and segmented trigger support!\n"
     ]
    },
    {
     "ename": "SystemExit",
     "evalue": "1",
     "output_type": "error",
     "traceback": [
      "An exception has occurred, use %tb to see the full traceback.\n",
      "\u001b[1;31mSystemExit\u001b[0m\u001b[1;31m:\u001b[0m 1\n"
     ]
    }
   ],
   "source": [
    "from __future__ import print_function\n",
    "from array import array\n",
    "import time\n",
    "import os\n",
    "import sys\n",
    "import libtiepie\n",
    "\n",
    "n_scans = 2\n",
    "\n",
    "def capture(scp,filename):\n",
    "    \n",
    "    scp.start()\n",
    "\n",
    "    while not scp.is_data_ready:\n",
    "        time.sleep(0.01)  # 10 ms delay, to save CPU time\n",
    "\n",
    "    data = []\n",
    "\n",
    "    # Get all data from the scope:\n",
    "    while scp.is_data_ready:\n",
    "        data.append(scp.get_data()[0])  # only collect data from Ch 1\n",
    "\n",
    "    # Output CSV data:\n",
    "    csv_file = open(filename, 'w')\n",
    "    try:\n",
    "        csv_file.write('Sample')\n",
    "        for i in range(len(data)):\n",
    "            csv_file.write(';Segment ' + str(i + 1))\n",
    "        csv_file.write(os.linesep)\n",
    "        for i in range(len(data[0])):\n",
    "            csv_file.write(str(i))\n",
    "            for j in range(len(data)):\n",
    "                csv_file.write(';' + str(data[j][i]))\n",
    "            csv_file.write(os.linesep)\n",
    "\n",
    "        print()\n",
    "        print('Data written to: ' + csv_file.name)\n",
    "\n",
    "    finally:\n",
    "        csv_file.close()\n",
    "        \n",
    "# Enable network search:\n",
    "libtiepie.network.auto_detect_enabled = True\n",
    "\n",
    "# Search for devices:\n",
    "libtiepie.device_list.update()\n",
    "\n",
    "# Try to open an oscilloscope with block measurement support and segmented triggering:\n",
    "scp = None\n",
    "for item in libtiepie.device_list:\n",
    "    if item.can_open(libtiepie.DEVICETYPE_OSCILLOSCOPE):\n",
    "        scp = item.open_oscilloscope()\n",
    "        if (scp.measure_modes & libtiepie.MM_BLOCK) and (scp.segment_count_max > 1):\n",
    "            break\n",
    "        else:\n",
    "            scp = None\n",
    "if scp:\n",
    "    try:\n",
    "        scp.measure_mode = libtiepie.MM_BLOCK\n",
    "        scp.sample_frequency = 200e6  # 1 MHz\n",
    "        scp.record_length = 3000  # 1000 samples\n",
    "        scp.pre_sample_ratio = 0  # 0 %\n",
    "        scp.segment_count = 125  # 5 segments\n",
    "\n",
    "        for ch in scp.channels:\n",
    "            ch.enabled = False\n",
    "\n",
    "\n",
    "        ch = scp.channels[0] \n",
    "        ch.enabled = True\n",
    "        ch.range = 8  # 8 V\n",
    "        ch.coupling = libtiepie.CK_DCV  # DC Volt\n",
    "        scp.trigger_time_out = 100e-3  # 100 ms\n",
    "        \n",
    "        for ch in scp.channels:\n",
    "            ch.trigger.enabled = False\n",
    "\n",
    "        ch = scp.channels[0]  # Ch 1\n",
    "        ch.trigger.enabled = True\n",
    "        ch.trigger.kind = libtiepie.TK_RISINGEDGE  # Rising edge\n",
    "        ch.trigger.levels[0] = 0.5  # 50 %\n",
    "        ch.trigger.hystereses[0] = 0.05  # 5 %\n",
    "        \n",
    "        for i in range(nscans):\n",
    "            capture(scp,f\"filename_{i}\")\n",
    "        \n",
    "\n",
    "\n",
    "    except Exception as e:\n",
    "        print('Exception: ' + e.message)\n",
    "        sys.exit(1)\n",
    "\n",
    "    # Close oscilloscope:\n",
    "    del scp\n",
    "\n",
    "else:\n",
    "    print('No oscilloscope available with block measurement and segmented trigger support!')\n",
    "    sys.exit(1)\n",
    "\n",
    "sys.exit(0)\n",
    "\n"
   ]
  },
  {
   "cell_type": "code",
   "execution_count": null,
   "id": "6015ed7e",
   "metadata": {},
   "outputs": [],
   "source": [
    "    sys.exit(1)\n"
   ]
  },
  {
   "cell_type": "code",
   "execution_count": null,
   "id": "de7f652a",
   "metadata": {},
   "outputs": [],
   "source": [
    "            csv_file.close()\n"
   ]
  },
  {
   "cell_type": "code",
   "execution_count": null,
   "id": "60c1002e",
   "metadata": {},
   "outputs": [],
   "source": []
  }
 ],
 "metadata": {
  "kernelspec": {
   "display_name": "Python 3 (ipykernel)",
   "language": "python",
   "name": "python3"
  },
  "language_info": {
   "codemirror_mode": {
    "name": "ipython",
    "version": 3
   },
   "file_extension": ".py",
   "mimetype": "text/x-python",
   "name": "python",
   "nbconvert_exporter": "python",
   "pygments_lexer": "ipython3",
   "version": "3.8.8"
  }
 },
 "nbformat": 4,
 "nbformat_minor": 5
}
