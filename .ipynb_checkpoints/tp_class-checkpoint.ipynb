{
 "cells": [
  {
   "cell_type": "code",
   "execution_count": 51,
   "id": "9f522522",
   "metadata": {},
   "outputs": [],
   "source": [
    "from __future__ import print_function\n",
    "from pipython import GCSDevice,pitools\n",
    "import serial.tools.list_ports\n",
    "from pipython.gcserror import GCSError\n",
    "import sys\n",
    "import os\n",
    "import numpy as np;\n",
    "import libtiepie\n",
    "import time"
   ]
  },
  {
   "cell_type": "code",
   "execution_count": 71,
   "id": "8cbb68c8",
   "metadata": {},
   "outputs": [],
   "source": [
    "class tiepie:\n",
    "    \n",
    "    def __init__(self):\n",
    "        scp = None\n",
    "        gen = None\n",
    "        \n",
    "        libtiepie.network.auto_detect_enabled = True\n",
    "        libtiepie.device_list.update()\n",
    "        # Try to open an oscilloscope with block measurement support and a generator in the same device:\n",
    "\n",
    "        for item in libtiepie.device_list:\n",
    "            if (item.can_open(libtiepie.DEVICETYPE_OSCILLOSCOPE)) and (item.can_open(libtiepie.DEVICETYPE_GENERATOR)):\n",
    "                scp = item.open_oscilloscope()\n",
    "                if scp.measure_modes & libtiepie.MM_BLOCK:\n",
    "                    gen = item.open_generator()\n",
    "                    break\n",
    "                else:\n",
    "                    scp = None\n",
    "\n",
    "        if scp and gen:\n",
    "            try:\n",
    "                scp.measure_mode = libtiepie.MM_BLOCK\n",
    "                scp.sample_frequency = 1e6  # 1 MHz\n",
    "                scp.record_length = 10000  # 10000 samples\n",
    "                scp.pre_sample_ratio = 0  # 0 %\n",
    "\n",
    "                # For all channels:\n",
    "                for ch in scp.channels:\n",
    "                    # Enable channel to measure it:\n",
    "                    ch.enabled = True\n",
    "\n",
    "                    # Set range:\n",
    "                    ch.range = 8  # 8 V\n",
    "\n",
    "                    # Set coupling:\n",
    "                    ch.coupling = libtiepie.CK_DCV  # DC Volt\n",
    "\n",
    "                # Set trigger timeout:\n",
    "                scp.trigger_time_out = 1  # 1 s\n",
    "\n",
    "                # Disable all channel trigger sources:\n",
    "                for ch in scp.channels:\n",
    "                    ch.trigger.enabled = False\n",
    "\n",
    "                # Locate trigger input:\n",
    "                trigger_input = scp.trigger_inputs.get_by_id(libtiepie.TIID_GENERATOR_NEW_PERIOD)  # or TIID_GENERATOR_START or TIID_GENERATOR_STOP\n",
    "\n",
    "                if trigger_input is None:\n",
    "                    raise Exception('Unknown trigger input!')\n",
    "\n",
    "                # Enable trigger input:\n",
    "                trigger_input.enabled = True\n",
    "\n",
    "                # Generator settings:\n",
    "\n",
    "                # Set signal type:\n",
    "                gen.signal_type = libtiepie.ST_TRIANGLE\n",
    "\n",
    "                # Set frequency:\n",
    "                gen.frequency = 1e3  # 1 kHz\n",
    "\n",
    "                # Set amplitude:\n",
    "                gen.amplitude = 2  # 2 V\n",
    "\n",
    "                # Set offset:\n",
    "                gen.offset = 0  # 0 V\n",
    "\n",
    "                # Enable output:\n",
    "                gen.output_on = True\n",
    "\n",
    "\n",
    "            except Exception as e:\n",
    "                print('Exception: ' + e.message)\n",
    "                sys.exit(1)\n",
    "\n",
    "\n",
    "\n",
    "        else:\n",
    "            print('No oscilloscope available with block measurement support or generator available in the same unit!')\n",
    "\n",
    "\n",
    "    def take_reading(self):\n",
    "        \n",
    "        self.scp.start()\n",
    "        self.gen.start()\n",
    "\n",
    "        # Wait for measurement to complete:\n",
    "        while not self.scp.is_data_ready:\n",
    "            time.sleep(0.01)  # 10 ms delay, to save CPU time\n",
    "\n",
    "        # Stop generator:\n",
    "        self.gen.stop()\n",
    "        self.gen.output_on = False\n",
    "\n",
    "        # Get data:\n",
    "        data = self.scp.get_data()\n",
    "\n",
    "        # Output CSV data:\n",
    "        csv_file = open('OscilloscopeGeneratorTrigger.csv', 'w')\n",
    "        try:\n",
    "            csv_file.write('Sample')\n",
    "            for i in range(len(data)):\n",
    "                csv_file.write(';Ch' + str(i + 1))\n",
    "            csv_file.write(os.linesep)\n",
    "            for i in range(len(data[0])):\n",
    "                csv_file.write(str(i))\n",
    "                for j in range(len(data)):\n",
    "                    csv_file.write(';' + str(data[j][i]))\n",
    "                csv_file.write(os.linesep)\n",
    "\n",
    "            print()\n",
    "            print('Data written to: ' + csv_file.name)\n",
    "\n",
    "        finally:\n",
    "            csv_file.close()\n",
    "        # Close oscilloscope:\n",
    "        del self.scp\n",
    "        del self.gen"
   ]
  },
  {
   "cell_type": "code",
   "execution_count": 66,
   "id": "7002bf29",
   "metadata": {},
   "outputs": [
    {
     "name": "stdout",
     "output_type": "stream",
     "text": [
      "0\n",
      "None\n"
     ]
    }
   ],
   "source": [
    "print(len(libtiepie.device_list))\n",
    "x = libtiepie.device_list.update()\n",
    "print(x)"
   ]
  },
  {
   "cell_type": "code",
   "execution_count": 74,
   "id": "cc274fab",
   "metadata": {},
   "outputs": [
    {
     "name": "stdout",
     "output_type": "stream",
     "text": [
      "No oscilloscope available with block measurement support or generator available in the same unit!\n"
     ]
    }
   ],
   "source": [
    "x = tiepie()"
   ]
  },
  {
   "cell_type": "code",
   "execution_count": null,
   "id": "ceb6a67f",
   "metadata": {},
   "outputs": [],
   "source": []
  },
  {
   "cell_type": "code",
   "execution_count": null,
   "id": "e8cb3649",
   "metadata": {},
   "outputs": [],
   "source": []
  }
 ],
 "metadata": {
  "kernelspec": {
   "display_name": "Python 3 (ipykernel)",
   "language": "python",
   "name": "python3"
  },
  "language_info": {
   "codemirror_mode": {
    "name": "ipython",
    "version": 3
   },
   "file_extension": ".py",
   "mimetype": "text/x-python",
   "name": "python",
   "nbconvert_exporter": "python",
   "pygments_lexer": "ipython3",
   "version": "3.8.8"
  }
 },
 "nbformat": 4,
 "nbformat_minor": 5
}
