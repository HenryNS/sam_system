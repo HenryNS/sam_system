{
 "cells": [
  {
   "cell_type": "code",
   "execution_count": 35,
   "id": "eb5665f9",
   "metadata": {},
   "outputs": [],
   "source": [
    "from __future__ import print_function\n",
    "from pipython import GCSDevice,pitools\n",
    "import serial.tools.list_ports\n",
    "from pipython.gcserror import GCSError\n",
    "import sys\n",
    "import os\n",
    "import numpy as np;\n",
    "import libtiepie\n",
    "import time"
   ]
  },
  {
   "cell_type": "code",
   "execution_count": 43,
   "id": "c7f0ea95",
   "metadata": {},
   "outputs": [],
   "source": [
    "\n",
    "def inst():\n",
    "    # Enable network search:\n",
    "    libtiepie.network.auto_detect_enabled = True\n",
    "    libtiepie.device_list.update()\n",
    "\n",
    "    # Try to open an oscilloscope with block measurement support and a generator in the same device:\n",
    "    scp = None\n",
    "    for item in libtiepie.device_list:\n",
    "        if item.can_open(libtiepie.DEVICETYPE_OSCILLOSCOPE):\n",
    "            scp = item.open_oscilloscope()\n",
    "            if (scp.measure_modes & libtiepie.MM_BLOCK) and (scp.segment_count_max > 1):\n",
    "                break\n",
    "            else:\n",
    "                scp = None\n",
    "    print(scp)\n",
    "\n",
    "    if scp:\n",
    "        try:\n",
    "            print(f\"start time = \",time.time())\n",
    "\n",
    "            scp.measure_mode = libtiepie.MM_BLOCK\n",
    "\n",
    "\n",
    "            scp.sample_frequency = 200e6  # 1 MHz\n",
    "            scp.record_length = 3000  # 1000 samples\n",
    "            scp.pre_sample_ratio = 0  # 0 %\n",
    "            scp.segment_count = 125  # 5 segments\n",
    "\n",
    "            for ch in scp.channels:\n",
    "                ch.enabled = False\n",
    "\n",
    "            ch = scp.channels[0]  # Ch 1\n",
    "\n",
    "            ch.enabled = True\n",
    "            ch.range = 8  # 8 V\n",
    "            ch.coupling = libtiepie.CK_DCV  # DC Volt\n",
    "\n",
    "            scp.trigger_time_out = 1e-3  # 100 ms\n",
    "\n",
    "            for ch in scp.channels:\n",
    "                ch.trigger.enabled = False\n",
    "\n",
    "\n",
    "            ch = scp.channels[0]  # Ch 1\n",
    "            ch.trigger.enabled = True\n",
    "            ch.trigger.kind = libtiepie.TK_RISINGEDGE  # Rising edge\n",
    "            ch.trigger.levels[0] = 0.5  # 50 %\n",
    "            ch.trigger.hystereses[0] = 0.05  # 5 %\n",
    "            gen.output_on = True\n",
    "\n",
    "\n",
    "        except Exception as e:\n",
    "            print('Exception')\n",
    "            sys.exit(1)\n",
    "\n",
    "    else:\n",
    "        print('No oscilloscope available with block measurement support or generator available in the same unit!')\n",
    "\n",
    "    return scp\n",
    "\n",
    "def take_reading(scp,gen):\n",
    "     # Start measurement:\n",
    "    scp.start()\n",
    "\n",
    "    # Wait for measurement to complete:\n",
    "    while not scp.is_data_ready:\n",
    "        time.sleep(0.01)  # 10 ms delay, to save CPU time\n",
    "\n",
    "    data = scp.get_data()\n",
    "\n",
    "    # Output CSV data:\n",
    "    csv_file = open('OscilloscopeGeneratorTrigger.csv', 'w')\n",
    "    try:\n",
    "        csv_file.write('Sample')\n",
    "        for i in range(len(data)):\n",
    "            csv_file.write(';Ch' + str(i + 1))\n",
    "        csv_file.write(os.linesep)\n",
    "        for i in range(len(data[0])):\n",
    "            csv_file.write(str(i))\n",
    "            for j in range(len(data)):\n",
    "                csv_file.write(';' + str(data[j][i]))\n",
    "            csv_file.write(os.linesep)\n",
    "\n",
    "        print()\n",
    "        print('Data written to: ' + csv_file.name)\n",
    "\n",
    "    finally:\n",
    "        csv_file.close()\n",
    "    # Close oscilloscope:\n",
    "    del scp\n"
   ]
  },
  {
   "cell_type": "code",
   "execution_count": 44,
   "id": "e7877fed",
   "metadata": {},
   "outputs": [
    {
     "name": "stdout",
     "output_type": "stream",
     "text": [
      "None\n",
      "No oscilloscope available with block measurement support or generator available in the same unit!\n"
     ]
    }
   ],
   "source": [
    "scp = inst()\n"
   ]
  },
  {
   "cell_type": "code",
   "execution_count": 38,
   "id": "63a9ceca",
   "metadata": {},
   "outputs": [
    {
     "ename": "NameError",
     "evalue": "name 'scp' is not defined",
     "output_type": "error",
     "traceback": [
      "\u001b[1;31m---------------------------------------------------------------------------\u001b[0m",
      "\u001b[1;31mNameError\u001b[0m                                 Traceback (most recent call last)",
      "\u001b[1;32mC:\\Users\\HENRYC~1\\AppData\\Local\\Temp/ipykernel_15260/652191314.py\u001b[0m in \u001b[0;36m<module>\u001b[1;34m\u001b[0m\n\u001b[1;32m----> 1\u001b[1;33m \u001b[0mdata\u001b[0m \u001b[1;33m=\u001b[0m \u001b[0mtake_reading\u001b[0m\u001b[1;33m(\u001b[0m\u001b[0mscp\u001b[0m\u001b[1;33m,\u001b[0m\u001b[0mgen\u001b[0m\u001b[1;33m)\u001b[0m\u001b[1;33m\u001b[0m\u001b[1;33m\u001b[0m\u001b[0m\n\u001b[0m",
      "\u001b[1;31mNameError\u001b[0m: name 'scp' is not defined"
     ]
    }
   ],
   "source": [
    "data = take_reading(scp,gen)"
   ]
  },
  {
   "cell_type": "code",
   "execution_count": null,
   "id": "240aaffb",
   "metadata": {},
   "outputs": [],
   "source": [
    "x_stage.CloseConnection()\n",
    "y_stage.CloseConnection()"
   ]
  },
  {
   "cell_type": "code",
   "execution_count": null,
   "id": "9d3b7322",
   "metadata": {},
   "outputs": [],
   "source": [
    "x_stage.VEL(1,45)\n",
    "x_stage.MOV(1,0)\n",
    "\n",
    "y_stage.VEL(1,45)\n",
    "y_stage.MOV(1,0)\n",
    "\n",
    "time.sleep(5)\n",
    "\n",
    "i = 0\n",
    "while True:\n",
    "    pos = x_stage.qPOS()['1']\n",
    "    if pos == 0.0:\n",
    "        mov = True\n",
    "        while mov: \n",
    "            x_stage.MOV(1,10)\n",
    "            pos = x_stage.qPOS()['1']\n",
    "            if pos == 10.0:\n",
    "                i += 1\n",
    "                mov = False\n",
    "                x_stage.MOV(1,0)\n",
    "                y_stage.MOV(1,(i*3))\n",
    "                print(\"\\n\",i)\n",
    "    if i == 125:\n",
    "        break\n"
   ]
  },
  {
   "cell_type": "code",
   "execution_count": null,
   "id": "852d82f1",
   "metadata": {},
   "outputs": [],
   "source": [
    "data_buf = []\n",
    "y_stage.SVO(1,1)"
   ]
  },
  {
   "cell_type": "code",
   "execution_count": null,
   "id": "baf965a1",
   "metadata": {},
   "outputs": [],
   "source": []
  },
  {
   "cell_type": "code",
   "execution_count": null,
   "id": "b98c125c",
   "metadata": {},
   "outputs": [],
   "source": []
  },
  {
   "cell_type": "code",
   "execution_count": null,
   "id": "e2deadcf",
   "metadata": {},
   "outputs": [],
   "source": []
  }
 ],
 "metadata": {
  "kernelspec": {
   "display_name": "Python 3 (ipykernel)",
   "language": "python",
   "name": "python3"
  },
  "language_info": {
   "codemirror_mode": {
    "name": "ipython",
    "version": 3
   },
   "file_extension": ".py",
   "mimetype": "text/x-python",
   "name": "python",
   "nbconvert_exporter": "python",
   "pygments_lexer": "ipython3",
   "version": "3.8.8"
  }
 },
 "nbformat": 4,
 "nbformat_minor": 5
}
