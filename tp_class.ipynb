{
 "cells": [
  {
   "cell_type": "code",
   "execution_count": 1,
   "id": "9d108a39",
   "metadata": {},
   "outputs": [],
   "source": [
    "from __future__ import print_function\n",
    "from pipython import GCSDevice,pitools\n",
    "import serial.tools.list_ports\n",
    "from pipython.gcserror import GCSError\n",
    "import sys\n",
    "import os\n",
    "import numpy as np;\n",
    "import libtiepie\n",
    "import time\n",
    "\n",
    "start_time = time.time()\n"
   ]
  },
  {
   "cell_type": "code",
   "execution_count": 2,
   "id": "30090b9b",
   "metadata": {},
   "outputs": [],
   "source": [
    "class tiepie:\n",
    "    \n",
    "    def __init__(self):\n",
    "\n",
    "        libtiepie.network.auto_detect_enabled = True\n",
    "        libtiepie.device_list.update()\n",
    "\n",
    "        # Try to open an oscilloscope with block measurement support and a generator in the same device:\n",
    "        self.scp = None\n",
    "        self.gen = None\n",
    "        \n",
    "        for item in libtiepie.device_list:\n",
    "            if (item.can_open(libtiepie.DEVICETYPE_OSCILLOSCOPE)):\n",
    "                  if self.scp.measure_modes & libtiepie.MM_BLOCK:\n",
    "                    self.scp = item.open_oscilloscope()\n",
    "                \n",
    "            if (item.can_open(libtiepie.DEVICETYPE_GENERATOR)):\n",
    "                if self.scp.measure_modes & libtiepie.MM_BLOCK:\n",
    "                    self.gen = item.open_generator()\n",
    "                    break\n",
    "                else:\n",
    "                    self.scp = None\n",
    "\n",
    "        if self.scp and self.gen:\n",
    "            try:\n",
    "                self.scp.measure_mode = libtiepie.MM_BLOCK\n",
    "                self.scp.sample_frequency = 1e6  # 1 MHz\n",
    "                self.scp.record_length = 10000  # 10000 samples\n",
    "                self.scp.pre_sample_ratio = 0  # 0 %\n",
    "\n",
    "                # For all channels:\n",
    "                for ch in self.scp.channels:\n",
    "                    ch.enabled = True\n",
    "                    ch.range = 8  # 8 V\n",
    "                    ch.coupling = libtiepie.CK_DCV  # DC Volt\n",
    "\n",
    "                # Set trigger timeout:\n",
    "                self.scp.trigger_time_out = 1  # 1 s\n",
    "\n",
    "                # Disable all channel trigger sources:\n",
    "                for ch in self.scp.channels:\n",
    "                    ch.trigger.enabled = False\n",
    "\n",
    "                # Locate trigger input:\n",
    "                self.trigger_input = self.scp.trigger_inputs.get_by_id(libtiepie.TIID_GENERATOR_NEW_PERIOD)  # or TIID_GENERATOR_START or TIID_GENERATOR_STOP\n",
    "\n",
    "                if self.trigger_input is None:\n",
    "                    raise Exception('Unknown trigger input!')\n",
    "\n",
    "                # Enable trigger input:\n",
    "                self.trigger_input.enabled = True\n",
    "                \n",
    "                self.gen.signal_type = libtiepie.ST_TRIANGLE\n",
    "                self.gen.frequency = 1e3  # 1 kHz\n",
    "                self.gen.amplitude = 2  # 2 V\n",
    "                self.gen.offset = 0  # 0 V\n",
    "                self.gen.output_on = True\n",
    "                \n",
    "            except Exception as e:\n",
    "                print('Exception: ' + e.message)\n",
    "                sys.exit(1)\n",
    "        else:\n",
    "            print('No oscilloscope available with block measurement support or generator available in the same unit!')\n",
    "\n",
    "    def take_reading(self):\n",
    "        \n",
    "        self.scp.start()\n",
    "        self.gen.start()\n",
    "\n",
    "        # Wait for measurement to complete:\n",
    "        while not self.scp.is_data_ready:\n",
    "            time.sleep(0.01)  # 10 ms delay, to save CPU time\n",
    "\n",
    "        # Stop generator:\n",
    "        self.gen.stop()\n",
    "        self.gen.output_on = False\n",
    "\n",
    "        # Get data:\n",
    "        data = self.scp.get_data()\n",
    "\n",
    "        # Output CSV data:\n",
    "        csv_file = open('OscilloscopeGeneratorTrigger.csv', 'w')\n",
    "        try:\n",
    "            csv_file.write('Sample')\n",
    "            for i in range(len(data)):\n",
    "                csv_file.write(';Ch' + str(i + 1))\n",
    "            csv_file.write(os.linesep)\n",
    "            for i in range(len(data[0])):\n",
    "                csv_file.write(str(i))\n",
    "                for j in range(len(data)):\n",
    "                    csv_file.write(';' + str(data[j][i]))\n",
    "                csv_file.write(os.linesep)\n",
    "\n",
    "            print()\n",
    "            print('Data written to: ' + csv_file.name)\n",
    "\n",
    "        finally:\n",
    "            csv_file.close()\n",
    "        # Close oscilloscope:\n",
    "        del self.scp\n",
    "        del self.gen"
   ]
  },
  {
   "cell_type": "code",
   "execution_count": 3,
   "id": "ed5fc1d0",
   "metadata": {},
   "outputs": [
    {
     "name": "stdout",
     "output_type": "stream",
     "text": [
      "0\n",
      "None\n"
     ]
    }
   ],
   "source": [
    "print(len(libtiepie.device_list))\n",
    "x = libtiepie.device_list.update()\n",
    "print(x)"
   ]
  },
  {
   "cell_type": "code",
   "execution_count": 86,
   "id": "3738cbd3",
   "metadata": {},
   "outputs": [
    {
     "ename": "NameError",
     "evalue": "name 'x' is not defined",
     "output_type": "error",
     "traceback": [
      "\u001b[1;31m---------------------------------------------------------------------------\u001b[0m",
      "\u001b[1;31mNameError\u001b[0m                                 Traceback (most recent call last)",
      "\u001b[1;32mC:\\Users\\HENRYC~1\\AppData\\Local\\Temp/ipykernel_19672/457272122.py\u001b[0m in \u001b[0;36m<module>\u001b[1;34m\u001b[0m\n\u001b[1;32m----> 1\u001b[1;33m \u001b[1;32mdel\u001b[0m \u001b[0mx\u001b[0m\u001b[1;33m\u001b[0m\u001b[1;33m\u001b[0m\u001b[0m\n\u001b[0m",
      "\u001b[1;31mNameError\u001b[0m: name 'x' is not defined"
     ]
    }
   ],
   "source": [
    "del x"
   ]
  },
  {
   "cell_type": "code",
   "execution_count": 4,
   "id": "8fa763a4",
   "metadata": {},
   "outputs": [
    {
     "ename": "AttributeError",
     "evalue": "'NoneType' object has no attribute 'measure_modes'",
     "output_type": "error",
     "traceback": [
      "\u001b[1;31m---------------------------------------------------------------------------\u001b[0m",
      "\u001b[1;31mAttributeError\u001b[0m                            Traceback (most recent call last)",
      "\u001b[1;32mC:\\Users\\HENRYC~1\\AppData\\Local\\Temp/ipykernel_2788/3298513844.py\u001b[0m in \u001b[0;36m<module>\u001b[1;34m\u001b[0m\n\u001b[1;32m----> 1\u001b[1;33m \u001b[0mx\u001b[0m \u001b[1;33m=\u001b[0m \u001b[0mtiepie\u001b[0m\u001b[1;33m(\u001b[0m\u001b[1;33m)\u001b[0m\u001b[1;33m\u001b[0m\u001b[1;33m\u001b[0m\u001b[0m\n\u001b[0m",
      "\u001b[1;32mC:\\Users\\HENRYC~1\\AppData\\Local\\Temp/ipykernel_2788/322275035.py\u001b[0m in \u001b[0;36m__init__\u001b[1;34m(self)\u001b[0m\n\u001b[0;32m     12\u001b[0m         \u001b[1;32mfor\u001b[0m \u001b[0mitem\u001b[0m \u001b[1;32min\u001b[0m \u001b[0mlibtiepie\u001b[0m\u001b[1;33m.\u001b[0m\u001b[0mdevice_list\u001b[0m\u001b[1;33m:\u001b[0m\u001b[1;33m\u001b[0m\u001b[1;33m\u001b[0m\u001b[0m\n\u001b[0;32m     13\u001b[0m             \u001b[1;32mif\u001b[0m \u001b[1;33m(\u001b[0m\u001b[0mitem\u001b[0m\u001b[1;33m.\u001b[0m\u001b[0mcan_open\u001b[0m\u001b[1;33m(\u001b[0m\u001b[0mlibtiepie\u001b[0m\u001b[1;33m.\u001b[0m\u001b[0mDEVICETYPE_OSCILLOSCOPE\u001b[0m\u001b[1;33m)\u001b[0m\u001b[1;33m)\u001b[0m\u001b[1;33m:\u001b[0m\u001b[1;33m\u001b[0m\u001b[1;33m\u001b[0m\u001b[0m\n\u001b[1;32m---> 14\u001b[1;33m                   \u001b[1;32mif\u001b[0m \u001b[0mself\u001b[0m\u001b[1;33m.\u001b[0m\u001b[0mscp\u001b[0m\u001b[1;33m.\u001b[0m\u001b[0mmeasure_modes\u001b[0m \u001b[1;33m&\u001b[0m \u001b[0mlibtiepie\u001b[0m\u001b[1;33m.\u001b[0m\u001b[0mMM_BLOCK\u001b[0m\u001b[1;33m:\u001b[0m\u001b[1;33m\u001b[0m\u001b[1;33m\u001b[0m\u001b[0m\n\u001b[0m\u001b[0;32m     15\u001b[0m                     \u001b[0mself\u001b[0m\u001b[1;33m.\u001b[0m\u001b[0mscp\u001b[0m \u001b[1;33m=\u001b[0m \u001b[0mitem\u001b[0m\u001b[1;33m.\u001b[0m\u001b[0mopen_oscilloscope\u001b[0m\u001b[1;33m(\u001b[0m\u001b[1;33m)\u001b[0m\u001b[1;33m\u001b[0m\u001b[1;33m\u001b[0m\u001b[0m\n\u001b[0;32m     16\u001b[0m \u001b[1;33m\u001b[0m\u001b[0m\n",
      "\u001b[1;31mAttributeError\u001b[0m: 'NoneType' object has no attribute 'measure_modes'"
     ]
    }
   ],
   "source": [
    "x = tiepie()"
   ]
  },
  {
   "cell_type": "code",
   "execution_count": null,
   "id": "94784df8",
   "metadata": {},
   "outputs": [],
   "source": []
  }
 ],
 "metadata": {
  "kernelspec": {
   "display_name": "Python 3 (ipykernel)",
   "language": "python",
   "name": "python3"
  },
  "language_info": {
   "codemirror_mode": {
    "name": "ipython",
    "version": 3
   },
   "file_extension": ".py",
   "mimetype": "text/x-python",
   "name": "python",
   "nbconvert_exporter": "python",
   "pygments_lexer": "ipython3",
   "version": "3.8.8"
  }
 },
 "nbformat": 4,
 "nbformat_minor": 5
}
