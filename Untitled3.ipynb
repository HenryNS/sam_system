{
 "cells": [
  {
   "cell_type": "code",
   "execution_count": 45,
   "id": "55cd4c2e",
   "metadata": {},
   "outputs": [],
   "source": [
    "from __future__ import print_function\n",
    "from pipython import GCSDevice,pitools\n",
    "import serial.tools.list_ports\n",
    "from pipython.gcserror import GCSError\n",
    "import sys\n",
    "import os\n",
    "import numpy as np;\n",
    "import libtiepie\n",
    "import time"
   ]
  },
  {
   "cell_type": "code",
   "execution_count": 57,
   "id": "f055acc1",
   "metadata": {},
   "outputs": [],
   "source": [
    "class TiePie:\n",
    "    def __init__(self,libtiepie):\n",
    "\n",
    "        self.scp = None\n",
    "        self.gen = None\n",
    "        for item in libtiepie.device_list:\n",
    "            print(item)\n",
    "            if (item.can_open(libtiepie.DEVICETYPE_OSCILLOSCOPE)) and (item.can_open(libtiepie.DEVICETYPE_GENERATOR)):\n",
    "                self.scp = item.open_oscilloscope()\n",
    "                if self.scp.measure_modes & libtiepie.MM_BLOCK:\n",
    "                    self.gen = item.open_generator()\n",
    "                    print(\"opened\")\n",
    "                    break\n",
    "            else:\n",
    "                self.scp = None\n",
    "                \n",
    "        if self.scp and self.gen:\n",
    "            \n",
    "            try:\n",
    "\n",
    "                self.scp.measure_mode = libtiepie.MM_BLOCK\n",
    "                self.scp.sample_frequency = 1e6  # 1 MHz\n",
    "                self.scp.record_length = 10000  # 10000 samples\n",
    "                self.scp.pre_sample_ratio = 0  # 0 %\n",
    "\n",
    "                for ch in self.scp.channels:\n",
    "                    ch.enabled = True\n",
    "                    ch.range = 8  # 8 V\n",
    "                    ch.coupling = libtiepie.CK_DCV  # DC Volt\n",
    "\n",
    "                self.scp.trigger_time_out = 1  # 1 s\n",
    "\n",
    "                for ch in self.scp.channels:\n",
    "                    ch.trigger.enabled = False\n",
    "\n",
    "                self.trigger_input = self.scp.trigger_inputs.get_by_id(libtiepie.TIID_GENERATOR_NEW_PERIOD)  # or TIID_GENERATOR_START or TIID_GENERATOR_STOP\n",
    "\n",
    "                if self.trigger_input is None:\n",
    "                    raise Exception('Unknown trigger input!')\n",
    "\n",
    "                self.trigger_input.enabled = True\n",
    "\n",
    "                self.gen.signal_type = libtiepie.ST_TRIANGLE\n",
    "\n",
    "                self.gen.frequency = 1e3  # 1 kHz\n",
    "                self.gen.amplitude = 2  # 2 V\n",
    "                self.gen.offset = 0  # 0 V\n",
    "                self.gen.output_on = True\n",
    "    \n",
    "            except Exception as e:\n",
    "                print('Exception: '+str(e))\n",
    "                sys.exit(1)\n",
    "            \n",
    "    def take_reading(self):\n",
    "        \n",
    "        self.scp.start()\n",
    "        self.gen.start()\n",
    "        \n",
    "        while not self.scp.is_data_ready:\n",
    "            time.sleep(0.01)\n",
    "            \n",
    "        self.gen.stop()\n",
    "        self.gen.output_on = False\n",
    "        data = self.scp.get_data()\n",
    "        \n",
    "        return data\n",
    "\n",
    "        "
   ]
  },
  {
   "cell_type": "code",
   "execution_count": 59,
   "id": "2e942e53",
   "metadata": {},
   "outputs": [],
   "source": [
    "tiepie = TiePie(libtiepie)\n",
    "# data = tiepie.take_reading()"
   ]
  },
  {
   "cell_type": "code",
   "execution_count": 53,
   "id": "c2faa5eb",
   "metadata": {},
   "outputs": [
    {
     "name": "stdout",
     "output_type": "stream",
     "text": [
      "None\n"
     ]
    }
   ],
   "source": [
    "libtiepie.network.auto_detect_enabled = True\n",
    "list1 = libtiepie.device_list.update()\n",
    "print(list1)"
   ]
  },
  {
   "cell_type": "code",
   "execution_count": null,
   "id": "53728b01",
   "metadata": {},
   "outputs": [],
   "source": []
  },
  {
   "cell_type": "code",
   "execution_count": null,
   "id": "8d10fd19",
   "metadata": {},
   "outputs": [],
   "source": []
  }
 ],
 "metadata": {
  "kernelspec": {
   "display_name": "Python 3 (ipykernel)",
   "language": "python",
   "name": "python3"
  },
  "language_info": {
   "codemirror_mode": {
    "name": "ipython",
    "version": 3
   },
   "file_extension": ".py",
   "mimetype": "text/x-python",
   "name": "python",
   "nbconvert_exporter": "python",
   "pygments_lexer": "ipython3",
   "version": "3.8.8"
  }
 },
 "nbformat": 4,
 "nbformat_minor": 5
}
