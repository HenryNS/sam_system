{
 "cells": [
  {
   "cell_type": "code",
   "execution_count": null,
   "id": "e947dcdd",
   "metadata": {},
   "outputs": [],
   "source": []
  },
  {
   "cell_type": "code",
   "execution_count": 143,
   "id": "5639d436",
   "metadata": {},
   "outputs": [],
   "source": [
    "from __future__ import print_function\n",
    "from array import array\n",
    "import time\n",
    "import os\n",
    "import sys\n",
    "import libtiepie\n",
    "\n",
    "class TP_Scanner():\n",
    "    \n",
    "    def __init__(self):\n",
    "\n",
    "    \n",
    "        libtiepie.network.auto_detect_enabled = True\n",
    "        libtiepie.device_list.update()\n",
    "\n",
    "        self.scp = None\n",
    "        for item in libtiepie.device_list:\n",
    "            if item.can_open(libtiepie.DEVICETYPE_OSCILLOSCOPE):\n",
    "                self.scp = item.open_oscilloscope()\n",
    "                if (self.scp.measure_modes & libtiepie.MM_BLOCK) and (self.scp.segment_count_max > 1):\n",
    "                    break\n",
    "                else:\n",
    "                    self.scp = None\n",
    "        print(self.scp)\n",
    "    \n",
    "\n",
    "    def scan_n_save(self):\n",
    "\n",
    "        self.scp.start()\n",
    "\n",
    "\n",
    "        # Wait for measurement to complete:\n",
    "        while not self.scp.is_data_ready:\n",
    "            time.sleep(0.01)  # 10 ms delay, to save CPU time\n",
    "\n",
    "        data = []\n",
    "\n",
    "        while self.scp.is_data_ready:\n",
    "            data.append(self.scp.get_data()[0])  # only collect data from Ch 1\n",
    "\n",
    "\n",
    "        csv_file = open('OscilloscopeBlockSegmented.csv', 'w')\n",
    "        try:\n",
    "            csv_file.write('Sample')\n",
    "            for i in range(len(data)):\n",
    "                csv_file.write(';Segment ' + str(i + 1))\n",
    "            csv_file.write(os.linesep)\n",
    "            for i in range(len(data[0])):\n",
    "                csv_file.write(str(i))\n",
    "                for j in range(len(data)):\n",
    "                    csv_file.write(';' + str(data[j][i]))\n",
    "                csv_file.write(os.linesep)\n",
    "\n",
    "            print()\n",
    "\n",
    "            data_save= time.time()\n",
    "            print(\"--- %s seconds ---\" % (data_save- start_time))\n",
    "\n",
    "            print('Data written to: ' + csv_file.name)\n",
    "\n",
    "        finally:\n",
    "            csv_file.close()\n",
    "\n",
    "\n",
    "        "
   ]
  },
  {
   "cell_type": "code",
   "execution_count": 144,
   "id": "bac12641",
   "metadata": {},
   "outputs": [
    {
     "name": "stdout",
     "output_type": "stream",
     "text": [
      "None\n"
     ]
    }
   ],
   "source": [
    "\n",
    "TP_Scanner = TP_Scanner()\n"
   ]
  },
  {
   "cell_type": "code",
   "execution_count": 134,
   "id": "8fa27025",
   "metadata": {},
   "outputs": [
    {
     "ename": "AttributeError",
     "evalue": "'NoneType' object has no attribute 'start'",
     "output_type": "error",
     "traceback": [
      "\u001b[1;31m---------------------------------------------------------------------------\u001b[0m",
      "\u001b[1;31mAttributeError\u001b[0m                            Traceback (most recent call last)",
      "\u001b[1;32mC:\\Users\\HENRYC~1\\AppData\\Local\\Temp/ipykernel_13992/335587966.py\u001b[0m in \u001b[0;36m<module>\u001b[1;34m\u001b[0m\n\u001b[1;32m----> 1\u001b[1;33m \u001b[0mTP_Scanner\u001b[0m\u001b[1;33m.\u001b[0m\u001b[0mscan_n_save\u001b[0m\u001b[1;33m(\u001b[0m\u001b[1;33m)\u001b[0m\u001b[1;33m\u001b[0m\u001b[1;33m\u001b[0m\u001b[0m\n\u001b[0m",
      "\u001b[1;32mC:\\Users\\HENRYC~1\\AppData\\Local\\Temp/ipykernel_13992/2288392200.py\u001b[0m in \u001b[0;36mscan_n_save\u001b[1;34m(self)\u001b[0m\n\u001b[0;32m     58\u001b[0m     \u001b[1;32mdef\u001b[0m \u001b[0mscan_n_save\u001b[0m\u001b[1;33m(\u001b[0m\u001b[0mself\u001b[0m\u001b[1;33m)\u001b[0m\u001b[1;33m:\u001b[0m\u001b[1;33m\u001b[0m\u001b[1;33m\u001b[0m\u001b[0m\n\u001b[0;32m     59\u001b[0m \u001b[1;33m\u001b[0m\u001b[0m\n\u001b[1;32m---> 60\u001b[1;33m         \u001b[0mself\u001b[0m\u001b[1;33m.\u001b[0m\u001b[0mscp\u001b[0m\u001b[1;33m.\u001b[0m\u001b[0mstart\u001b[0m\u001b[1;33m(\u001b[0m\u001b[1;33m)\u001b[0m\u001b[1;33m\u001b[0m\u001b[1;33m\u001b[0m\u001b[0m\n\u001b[0m\u001b[0;32m     61\u001b[0m \u001b[1;33m\u001b[0m\u001b[0m\n\u001b[0;32m     62\u001b[0m \u001b[1;33m\u001b[0m\u001b[0m\n",
      "\u001b[1;31mAttributeError\u001b[0m: 'NoneType' object has no attribute 'start'"
     ]
    }
   ],
   "source": [
    "TP_Scanner.scan_n_save()"
   ]
  },
  {
   "cell_type": "code",
   "execution_count": 38,
   "id": "c45495f5",
   "metadata": {},
   "outputs": [
    {
     "data": {
      "text/plain": [
       "0.8357765674591064"
      ]
     },
     "execution_count": 38,
     "metadata": {},
     "output_type": "execute_result"
    }
   ],
   "source": [
    "data_save_time = data_save - dat_end"
   ]
  },
  {
   "cell_type": "code",
   "execution_count": 42,
   "id": "c35c8681",
   "metadata": {},
   "outputs": [
    {
     "data": {
      "text/plain": [
       "0.9650144577026367"
      ]
     },
     "execution_count": 42,
     "metadata": {},
     "output_type": "execute_result"
    }
   ],
   "source": [
    "entire_time = data_save - meas_start\n"
   ]
  },
  {
   "cell_type": "code",
   "execution_count": null,
   "id": "3e9720be",
   "metadata": {},
   "outputs": [],
   "source": []
  }
 ],
 "metadata": {
  "kernelspec": {
   "display_name": "Python 3 (ipykernel)",
   "language": "python",
   "name": "python3"
  },
  "language_info": {
   "codemirror_mode": {
    "name": "ipython",
    "version": 3
   },
   "file_extension": ".py",
   "mimetype": "text/x-python",
   "name": "python",
   "nbconvert_exporter": "python",
   "pygments_lexer": "ipython3",
   "version": "3.8.8"
  }
 },
 "nbformat": 4,
 "nbformat_minor": 5
}
